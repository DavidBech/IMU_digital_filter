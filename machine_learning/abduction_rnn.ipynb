{
 "cells": [
  {
   "cell_type": "code",
   "execution_count": 23,
   "metadata": {},
   "outputs": [],
   "source": [
    "import tensorflow as tf\n",
    "from tensorflow import keras\n",
    "from tensorflow.keras import layers\n",
    "import pandas as pd\n",
    "import numpy as np\n",
    "import matplotlib.pyplot as plt"
   ]
  },
  {
   "cell_type": "code",
   "execution_count": 42,
   "metadata": {},
   "outputs": [],
   "source": [
    "# Angles (3) + Accel (3) + Compass(3)\n",
    "#TODO 2 imus in so double data width?\n",
    "#data_input_width = 3 + 3 + 3\n",
    "data_input_width = 3 #use only angles for now\n",
    "time_steps= 10\n",
    "\n",
    "# Input Format\n",
    "# [angles(t-time_steps+1), accel(t-time_steps+1), compass(t-time_steps+1)]\n",
    "# ...\n",
    "# [angles(t-2), accel(t-2), compass(t-2)]\n",
    "# [angles(t-1), accel(t-1), compass(t-1)]\n",
    "# [angles(t) accel(t), compass(t)]\n",
    "\n",
    "#output Format\n",
    "#\n",
    "# [correct_exercise, overcompensation]\n",
    "#"
   ]
  },
  {
   "cell_type": "code",
   "execution_count": 43,
   "metadata": {},
   "outputs": [
    {
     "name": "stdout",
     "output_type": "stream",
     "text": [
      "Model: \"sequential_22\"\n",
      "_________________________________________________________________\n",
      " Layer (type)                Output Shape              Param #   \n",
      "=================================================================\n",
      " simple_rnn_19 (SimpleRNN)   (None, 10, 32)            1152      \n",
      "                                                                 \n",
      " lstm_6 (LSTM)               (None, 16)                3136      \n",
      "                                                                 \n",
      " dense_34 (Dense)            (None, 10)                170       \n",
      "                                                                 \n",
      " dense_35 (Dense)            (None, 2)                 22        \n",
      "                                                                 \n",
      "=================================================================\n",
      "Total params: 4,480\n",
      "Trainable params: 4,480\n",
      "Non-trainable params: 0\n",
      "_________________________________________________________________\n"
     ]
    }
   ],
   "source": [
    "model = keras.Sequential()\n",
    "#TODO I don't know if simpleRNN should come before or after LSTM\n",
    "#TODO another input second IMU?\n",
    "model.add(layers.SimpleRNN(32, input_shape = (time_steps, data_input_width), return_sequences=True))\n",
    "model.add(layers.LSTM(16))\n",
    "model.add(layers.Dense(10))\n",
    "model.add(layers.Dense(2, activation='sigmoid')) #sigmoid has output between 0 and 1 (confidence)\n",
    "model.compile(loss='mean_squared_error', optimizer='adam')\n",
    "model.summary()"
   ]
  },
  {
   "cell_type": "code",
   "execution_count": null,
   "metadata": {},
   "outputs": [],
   "source": [
    "N = 16    \n",
    "Tp =12 \n",
    "\n",
    "t=np.arange(0,N)\n",
    "x=np.sin(0.02*t) #+2*np.random.rand(N)\n",
    "df = pd.DataFrame(x)\n",
    "df.head()\n",
    "\n",
    "values=df.values\n",
    "train,test = values[0:Tp,:], values[Tp:N,:]\n",
    "step = 4\n",
    "test = np.append(test,np.repeat(test[-1,],step))\n",
    "train = np.append(train,np.repeat(train[-1,],step))\n",
    "\n",
    "def convertToMatrix(data, step):\n",
    "    X, Y =[], []\n",
    "    for i in range(len(data)-step):\n",
    "        d=i+step  \n",
    "        X.append(data[i:d,])\n",
    "    return np.array(X), np.array(Y)\n",
    "\n",
    "trainX,trainY =convertToMatrix(train,step)\n",
    "testX,testY =convertToMatrix(test,step)\n",
    "\n",
    "trainX = np.reshape(trainX, (trainX.shape[0], 1, trainX.shape[1]))\n",
    "testX = np.reshape(testX, (testX.shape[0], 1, testX.shape[1]))\n",
    "\n",
    "print(trainX)\n",
    "print(trainY)\n"
   ]
  },
  {
   "cell_type": "code",
   "execution_count": 63,
   "metadata": {},
   "outputs": [
    {
     "name": "stdout",
     "output_type": "stream",
     "text": [
      "[[-0.135  0.206 -1.473]\n",
      " [-0.114  0.214 -1.483]\n",
      " [-0.098  0.204 -1.535]\n",
      " [-0.103  0.176 -1.564]\n",
      " [-0.102  0.208 -1.519]\n",
      " [-0.124  0.15  -1.524]\n",
      " [-0.253  0.157 -1.339]\n",
      " [-0.521 -0.027 -1.221]\n",
      " [-0.827 -0.194 -1.298]\n",
      " [-0.8   -0.279 -1.474]]\n",
      "[[-0.114  0.214 -1.483]\n",
      " [-0.098  0.204 -1.535]\n",
      " [-0.103  0.176 -1.564]\n",
      " [-0.102  0.208 -1.519]\n",
      " [-0.124  0.15  -1.524]\n",
      " [-0.253  0.157 -1.339]\n",
      " [-0.521 -0.027 -1.221]\n",
      " [-0.827 -0.194 -1.298]\n",
      " [-0.8   -0.279 -1.474]\n",
      " [-0.559 -0.282 -1.56 ]]\n",
      "[[[-0.135  0.206 -1.473]\n",
      "  [-0.114  0.214 -1.483]\n",
      "  [-0.098  0.204 -1.535]\n",
      "  ...\n",
      "  [-0.521 -0.027 -1.221]\n",
      "  [-0.827 -0.194 -1.298]\n",
      "  [-0.8   -0.279 -1.474]]\n",
      "\n",
      " [[-0.114  0.214 -1.483]\n",
      "  [-0.098  0.204 -1.535]\n",
      "  [-0.103  0.176 -1.564]\n",
      "  ...\n",
      "  [-0.827 -0.194 -1.298]\n",
      "  [-0.8   -0.279 -1.474]\n",
      "  [-0.559 -0.282 -1.56 ]]\n",
      "\n",
      " [[-0.098  0.204 -1.535]\n",
      "  [-0.103  0.176 -1.564]\n",
      "  [-0.102  0.208 -1.519]\n",
      "  ...\n",
      "  [-0.8   -0.279 -1.474]\n",
      "  [-0.559 -0.282 -1.56 ]\n",
      "  [-0.464 -0.267 -1.677]]\n",
      "\n",
      " ...\n",
      "\n",
      " [[-6.392  4.02  -4.442]\n",
      "  [-6.343  3.968 -4.589]\n",
      "  [-6.39   3.936 -4.82 ]\n",
      "  ...\n",
      "  [-5.584  4.716 -2.439]\n",
      "  [-5.912  4.459 -3.139]\n",
      "  [-6.039  4.219 -3.632]]\n",
      "\n",
      " [[-6.343  3.968 -4.589]\n",
      "  [-6.39   3.936 -4.82 ]\n",
      "  [-6.433  3.967 -4.742]\n",
      "  ...\n",
      "  [-5.912  4.459 -3.139]\n",
      "  [-6.039  4.219 -3.632]\n",
      "  [-5.923  4.456 -3.566]]\n",
      "\n",
      " [[-6.39   3.936 -4.82 ]\n",
      "  [-6.433  3.967 -4.742]\n",
      "  [-6.263  4.039 -3.701]\n",
      "  ...\n",
      "  [-6.039  4.219 -3.632]\n",
      "  [-5.923  4.456 -3.566]\n",
      "  [-5.637  4.546 -3.407]]]\n"
     ]
    }
   ],
   "source": [
    "def convertToMatrix(data, step):\n",
    "    X = []\n",
    "    for i in range(len(data) - step):\n",
    "        d = i+step\n",
    "        X.append(data[i:d,])\n",
    "    return np.array(X)\n",
    "\n",
    "def read_format_csv(filename):\n",
    "    ignore_cols = (\"time\",\"IMU#\",\"accelx\",\"accely\",\"accelz\",\"compassx\",\"compassy\",\"compassz\")\n",
    "    data = pd.read_csv(filename)\n",
    "\n",
    "    for col in ignore_cols:\n",
    "        data.pop(col)\n",
    "\n",
    "    return np.array(data)\n",
    "\n",
    "\n",
    "\n",
    "\n",
    "\n",
    "inputs = convertToMatrix(read_format_csv(\"./data_simple/imu1_10_27.csv\"), time_steps)\n",
    "print(inputs[0])\n",
    "print(inputs[1])\n",
    "print(inputs)\n",
    "\n",
    "outputs = None\n"
   ]
  },
  {
   "cell_type": "code",
   "execution_count": null,
   "metadata": {},
   "outputs": [],
   "source": []
  },
  {
   "cell_type": "code",
   "execution_count": null,
   "metadata": {},
   "outputs": [],
   "source": [
    "history = model.fit(\n",
    "    inputs,\n",
    "    outputs,\n",
    "    epochs = 5,\n",
    "    validation_split = 0.2,\n",
    ")\n",
    "\n",
    "model.save(\"./\")\n"
   ]
  },
  {
   "cell_type": "code",
   "execution_count": 59,
   "metadata": {},
   "outputs": [
    {
     "name": "stdout",
     "output_type": "stream",
     "text": [
      "[[0.33891127 0.5295421 ]\n",
      " [0.33903322 0.5293829 ]\n",
      " [0.339416   0.52930474]\n",
      " ...\n",
      " [0.3814764  0.53624946]\n",
      " [0.38184732 0.53669876]\n",
      " [0.38250434 0.5369623 ]]\n"
     ]
    }
   ],
   "source": [
    "data_in = read_format_csv(\"./data_simple/imu0_10_27.csv\")\n",
    "prediction = model.predict(data_in)\n",
    "print(prediction)\n",
    "#TODO plot data_in and prediction"
   ]
  },
  {
   "cell_type": "code",
   "execution_count": null,
   "metadata": {},
   "outputs": [],
   "source": []
  },
  {
   "cell_type": "code",
   "execution_count": null,
   "metadata": {},
   "outputs": [],
   "source": []
  }
 ],
 "metadata": {
  "kernelspec": {
   "display_name": "base",
   "language": "python",
   "name": "python3"
  },
  "language_info": {
   "codemirror_mode": {
    "name": "ipython",
    "version": 3
   },
   "file_extension": ".py",
   "mimetype": "text/x-python",
   "name": "python",
   "nbconvert_exporter": "python",
   "pygments_lexer": "ipython3",
   "version": "3.7.11"
  },
  "orig_nbformat": 4
 },
 "nbformat": 4,
 "nbformat_minor": 2
}
