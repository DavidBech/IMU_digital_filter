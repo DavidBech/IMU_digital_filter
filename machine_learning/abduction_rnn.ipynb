{
 "cells": [
  {
   "cell_type": "code",
   "execution_count": 15,
   "metadata": {},
   "outputs": [],
   "source": [
    "import tensorflow as tf\n",
    "from tensorflow import keras\n",
    "from tensorflow.keras import layers\n",
    "import pandas as pd\n",
    "import numpy as np\n",
    "import matplotlib.pyplot as plt\n",
    "from glob import glob\n",
    "import random"
   ]
  },
  {
   "cell_type": "code",
   "execution_count": 3,
   "metadata": {},
   "outputs": [],
   "source": [
    "# Angles (3) + Accel (3) + Compass(3)\n",
    "#TODO 2 imus in so double data width?\n",
    "#data_input_width = 3 + 3 + 3\n",
    "data_input_width = 3 #use only angles for now\n",
    "time_steps= 10\n",
    "\n",
    "# Input Format\n",
    "# [angles(t-time_steps+1), accel(t-time_steps+1), compass(t-time_steps+1)]\n",
    "# ...\n",
    "# [angles(t-2), accel(t-2), compass(t-2)]\n",
    "# [angles(t-1), accel(t-1), compass(t-1)]\n",
    "# [angles(t) accel(t), compass(t)]\n",
    "\n",
    "#output Format\n",
    "#\n",
    "# [correct_exercise, overcompensation]\n",
    "#"
   ]
  },
  {
   "cell_type": "code",
   "execution_count": 9,
   "metadata": {},
   "outputs": [
    {
     "name": "stdout",
     "output_type": "stream",
     "text": [
      "Model: \"sequential_1\"\n",
      "_________________________________________________________________\n",
      " Layer (type)                Output Shape              Param #   \n",
      "=================================================================\n",
      " simple_rnn_1 (SimpleRNN)    (None, 10, 32)            1152      \n",
      "                                                                 \n",
      " lstm_1 (LSTM)               (None, 16)                3136      \n",
      "                                                                 \n",
      " dense_2 (Dense)             (None, 10)                170       \n",
      "                                                                 \n",
      " dense_3 (Dense)             (None, 1)                 11        \n",
      "                                                                 \n",
      "=================================================================\n",
      "Total params: 4,469\n",
      "Trainable params: 4,469\n",
      "Non-trainable params: 0\n",
      "_________________________________________________________________\n"
     ]
    }
   ],
   "source": [
    "model = keras.Sequential()\n",
    "#TODO I don't know if simpleRNN should come before or after LSTM\n",
    "#TODO another input second IMU?\n",
    "model.add(layers.SimpleRNN(32, input_shape = (time_steps, data_input_width), return_sequences=True))\n",
    "model.add(layers.LSTM(16))\n",
    "model.add(layers.Dense(10))\n",
    "#model.add(layers.Dense(2, activation='sigmoid')) #sigmoid has output between 0 and 1 (confidence)\n",
    "model.add(layers.Dense(1, activation='sigmoid')) #sigmoid has output between 0 and 1 (confidence)\n",
    "model.compile(loss='mean_squared_error', optimizer='adam')\n",
    "model.summary()"
   ]
  },
  {
   "cell_type": "code",
   "execution_count": 19,
   "metadata": {},
   "outputs": [],
   "source": [
    "def convertToMatrix(data, step):\n",
    "    X = []\n",
    "    for i in range(len(data) - step):\n",
    "        d = i+step\n",
    "        X.append(data[i:d,])\n",
    "    return np.array(X)\n",
    "\n",
    "def read_format_csv(filename):\n",
    "    ignore_cols = (\"time\",\"IMU#\",\"accelx\",\"accely\",\"accelz\",\"compassx\",\"compassy\",\"compassz\")\n",
    "    data = pd.read_csv(filename)\n",
    "\n",
    "    for col in ignore_cols:\n",
    "        data.pop(col)\n",
    "\n",
    "    return np.array(data)\n",
    "\n",
    "def get_in(filename):\n",
    "    inputs = convertToMatrix(read_format_csv(filename), time_steps)\n",
    "    return inputs\n",
    "\n",
    "def get_expect(inputs, over_comp):\n",
    "    if over_comp:\n",
    "        #TODO maybe only when input.angle > some threshold \n",
    "        outputs = np.ones(len(inputs))\n",
    "    else:\n",
    "        outputs = np.zeros(len(inputs))\n",
    "    return outputs\n",
    "\n",
    "#inputs = get_in(\"./data_simple./imu0_10_27_0.csv\")\n",
    "#outputs = get_expect(inputs)\n",
    "#print(inputs)\n",
    "#print(outputs)\n"
   ]
  },
  {
   "cell_type": "code",
   "execution_count": 18,
   "metadata": {},
   "outputs": [],
   "source": [
    "\n",
    "training_file_names_imu0 = glob(\"./data/abduction_train/overcomp/imu0/*\")\n",
    "training_file_names_imu0.extend(glob(\"./data/abduction_train/reg/imu0/*\"))\n",
    "\n",
    "validation_file_names_imu0 = glob(\"./data/abduction_validate/overcomp/imu0/*\")\n",
    "validation_file_names_imu0.extend(glob(\"./data/abduction_validate/reg/imu0/*\"))\n",
    "\n",
    "epochs = 10\n",
    "files_per_epoch = len(training_file_names_imu0)\n",
    "files_per_val = len(validation_file_names_imu0)\n",
    "\n",
    "training_file_names_imu1 = [i.replace(\"imu0\", \"imu1\") for i in training_file_names_imu0]\n",
    "validation_file_names_imu1 = [i.replace(\"imu0\", \"imu1\") for i in validation_file_names_imu0]\n",
    "\n",
    "training_index = list(range(0, files_per_epoch))\n",
    "validation_index = list(range(0, files_per_val))\n",
    "\n",
    "def training_generator():\n",
    "    for j in range(epochs):\n",
    "        random.shuffle(training_index)\n",
    "        for i in range(files_per_epoch):\n",
    "            file_name_imu0 = training_file_names_imu0[training_index[i]]\n",
    "            file_name_imu1 = training_file_names_imu1[training_index[i]]\n",
    "            temp_in = get_in(file_name_imu0)\n",
    "            temp_out = get_expect(temp_in, \"overcomp\" in file_name_imu0)\n",
    "            yield (temp_in, temp_out)\n",
    "\n",
    "def validation_generator():\n",
    "     for j in range(epochs):\n",
    "        random.shuffle(validation_index)\n",
    "        for i in range(files_per_val):\n",
    "            file_name_imu0 = validation_file_names_imu0[validation_index[i]]\n",
    "            file_name_imu1 = validation_file_names_imu1[validation_index[i]]\n",
    "            temp_in = get_in(file_name_imu0)\n",
    "            temp_out = get_expect(temp_in, \"overcomp\" in file_name_imu0)\n",
    "            yield (temp_in, temp_out)\n",
    "\n",
    "\n"
   ]
  },
  {
   "cell_type": "code",
   "execution_count": 20,
   "metadata": {},
   "outputs": [
    {
     "name": "stdout",
     "output_type": "stream",
     "text": [
      "Epoch 1/10\n",
      "89/89 [==============================] - 4s 25ms/step - loss: 0.1704\n",
      "Epoch 2/10\n",
      "89/89 [==============================] - 3s 30ms/step - loss: 0.1033 - val_loss: 0.0850\n",
      "Epoch 3/10\n",
      "89/89 [==============================] - 2s 23ms/step - loss: 0.0942\n",
      "Epoch 4/10\n",
      "89/89 [==============================] - 2s 25ms/step - loss: 0.0884 - val_loss: 0.0719\n",
      "Epoch 5/10\n",
      "89/89 [==============================] - 2s 25ms/step - loss: 0.0856\n",
      "Epoch 6/10\n",
      "89/89 [==============================] - 2s 25ms/step - loss: 0.0793 - val_loss: 0.0710\n",
      "Epoch 7/10\n",
      "89/89 [==============================] - 2s 28ms/step - loss: 0.0833\n",
      "Epoch 8/10\n",
      "89/89 [==============================] - 2s 27ms/step - loss: 0.0750 - val_loss: 0.0695\n",
      "Epoch 9/10\n",
      "89/89 [==============================] - 2s 24ms/step - loss: 0.0717\n",
      "Epoch 10/10\n",
      "89/89 [==============================] - 2s 22ms/step - loss: 0.0708 - val_loss: 0.0952\n"
     ]
    },
    {
     "name": "stderr",
     "output_type": "stream",
     "text": [
      "WARNING:absl:Found untraced functions such as lstm_cell_1_layer_call_fn, lstm_cell_1_layer_call_and_return_conditional_losses, lstm_cell_1_layer_call_fn, lstm_cell_1_layer_call_and_return_conditional_losses, lstm_cell_1_layer_call_and_return_conditional_losses while saving (showing 5 of 5). These functions will not be directly callable after loading.\n"
     ]
    },
    {
     "name": "stdout",
     "output_type": "stream",
     "text": [
      "INFO:tensorflow:Assets written to: temp_model\\assets\n"
     ]
    },
    {
     "name": "stderr",
     "output_type": "stream",
     "text": [
      "INFO:tensorflow:Assets written to: temp_model\\assets\n",
      "WARNING:absl:<keras.layers.recurrent.LSTMCell object at 0x000001F0E7D5F7C8> has the same name 'LSTMCell' as a built-in Keras object. Consider renaming <class 'keras.layers.recurrent.LSTMCell'> to avoid naming conflicts when loading with `tf.keras.models.load_model`. If renaming is not possible, pass the object in the `custom_objects` parameter of the load function.\n"
     ]
    }
   ],
   "source": [
    "tf.config.experimental_functions_run_eagerly = False\n",
    "history = model.fit(\n",
    "    x=training_generator(), \n",
    "    epochs=epochs,\n",
    "    steps_per_epoch=files_per_epoch,\n",
    "    validation_data=validation_generator(),\n",
    "    validation_steps=files_per_val,\n",
    "    validation_freq=2\n",
    ")\n",
    "\n",
    "model.save(\"temp_model\")\n",
    "\n"
   ]
  },
  {
   "cell_type": "code",
   "execution_count": 30,
   "metadata": {},
   "outputs": [
    {
     "data": {
      "image/png": "[encoded data removed]",
      "text/plain": [
       "<Figure size 432x288 with 1 Axes>"
      ]
     },
     "metadata": {
      "needs_background": "light"
     },
     "output_type": "display_data"
    }
   ],
   "source": [
    "#file_name = \"./data/abduction_validate/reg/imu0/imu0_18_17__15.csv\"\n",
    "file_name = \"./data/abduction_validate/overcomp/imu0/imu0_21_9__15.csv\"\n",
    "\n",
    "input_data = read_format_csv(file_name)\n",
    "\n",
    "angle0 = input_data.flatten()[::3]\n",
    "angle1 = input_data.flatten()[1::3]\n",
    "angle2 = input_data.flatten()[2::3]\n",
    "\n",
    "data_in = get_in(file_name) \n",
    "prediction = model.predict(data_in)\n",
    "x_points = np.arange(0,len(angle0))\n",
    "\n",
    "#prediction_wrong = prediction.flatten()[::2]\n",
    "#prediction_comp = prediction.flatten()[1::2]\n",
    "prediction_comp = prediction.flatten()\n",
    "\n",
    "for i in range(time_steps):\n",
    "    #prediction_wrong = np.insert(prediction_wrong, 0, 0)\n",
    "    prediction_comp = np.insert(prediction_comp, 0, 0)\n",
    "\n",
    "#prediction_wrong *= 100\n",
    "prediction_comp *= 100\n",
    "\n",
    "plt.plot(x_points, angle0, label=\"A0\")\n",
    "plt.plot(x_points, angle1, label=\"A1\")\n",
    "plt.plot(x_points, angle2, label=\"A2\")\n",
    "#plt.plot(x_points, prediction_wrong, label=\"Wrong\")\n",
    "plt.plot(x_points, prediction_comp, label=\"Over-C\")\n",
    "plt.legend()\n",
    "plt.show()\n",
    "\n"
   ]
  },
  {
   "cell_type": "code",
   "execution_count": null,
   "metadata": {},
   "outputs": [],
   "source": []
  },
  {
   "cell_type": "code",
   "execution_count": null,
   "metadata": {},
   "outputs": [],
   "source": []
  }
 ],
 "metadata": {
  "kernelspec": {
   "display_name": "base",
   "language": "python",
   "name": "python3"
  },
  "language_info": {
   "codemirror_mode": {
    "name": "ipython",
    "version": 3
   },
   "file_extension": ".py",
   "mimetype": "text/x-python",
   "name": "python",
   "nbconvert_exporter": "python",
   "pygments_lexer": "ipython3",
   "version": "3.7.11"
  },
  "orig_nbformat": 4
 },
 "nbformat": 4,
 "nbformat_minor": 2
}
