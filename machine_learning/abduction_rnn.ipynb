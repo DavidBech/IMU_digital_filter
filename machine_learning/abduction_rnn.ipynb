{
 "cells": [
  {
   "cell_type": "code",
   "execution_count": 77,
   "metadata": {},
   "outputs": [],
   "source": [
    "import tensorflow as tf\n",
    "from tensorflow import keras\n",
    "from tensorflow.keras import layers\n",
    "import pandas as pd\n",
    "import numpy as np\n",
    "import matplotlib.pyplot as plt\n"
   ]
  },
  {
   "cell_type": "code",
   "execution_count": 3,
   "metadata": {},
   "outputs": [],
   "source": [
    "# Angles (3) + Accel (3) + Compass(3)\n",
    "#TODO 2 imus in so double data width?\n",
    "#data_input_width = 3 + 3 + 3\n",
    "data_input_width = 3 #use only angles for now\n",
    "time_steps= 10\n",
    "\n",
    "# Input Format\n",
    "# [angles(t-time_steps+1), accel(t-time_steps+1), compass(t-time_steps+1)]\n",
    "# ...\n",
    "# [angles(t-2), accel(t-2), compass(t-2)]\n",
    "# [angles(t-1), accel(t-1), compass(t-1)]\n",
    "# [angles(t) accel(t), compass(t)]\n",
    "\n",
    "#output Format\n",
    "#\n",
    "# [correct_exercise, overcompensation]\n",
    "#"
   ]
  },
  {
   "cell_type": "code",
   "execution_count": 4,
   "metadata": {},
   "outputs": [
    {
     "name": "stdout",
     "output_type": "stream",
     "text": [
      "Model: \"sequential\"\n",
      "_________________________________________________________________\n",
      " Layer (type)                Output Shape              Param #   \n",
      "=================================================================\n",
      " simple_rnn (SimpleRNN)      (None, 10, 32)            1152      \n",
      "                                                                 \n",
      " lstm (LSTM)                 (None, 16)                3136      \n",
      "                                                                 \n",
      " dense (Dense)               (None, 10)                170       \n",
      "                                                                 \n",
      " dense_1 (Dense)             (None, 2)                 22        \n",
      "                                                                 \n",
      "=================================================================\n",
      "Total params: 4,480\n",
      "Trainable params: 4,480\n",
      "Non-trainable params: 0\n",
      "_________________________________________________________________\n"
     ]
    }
   ],
   "source": [
    "model = keras.Sequential()\n",
    "#TODO I don't know if simpleRNN should come before or after LSTM\n",
    "#TODO another input second IMU?\n",
    "model.add(layers.SimpleRNN(32, input_shape = (time_steps, data_input_width), return_sequences=True))\n",
    "model.add(layers.LSTM(16))\n",
    "model.add(layers.Dense(10))\n",
    "model.add(layers.Dense(2, activation='sigmoid')) #sigmoid has output between 0 and 1 (confidence)\n",
    "model.compile(loss='mean_squared_error', optimizer='adam')\n",
    "model.summary()"
   ]
  },
  {
   "cell_type": "code",
   "execution_count": 18,
   "metadata": {},
   "outputs": [],
   "source": [
    "def convertToMatrix(data, step):\n",
    "    X = []\n",
    "    for i in range(len(data) - step):\n",
    "        d = i+step\n",
    "        X.append(data[i:d,])\n",
    "    return np.array(X)\n",
    "\n",
    "def read_format_csv(filename):\n",
    "    ignore_cols = (\"time\",\"IMU#\",\"accelx\",\"accely\",\"accelz\",\"compassx\",\"compassy\",\"compassz\")\n",
    "    data = pd.read_csv(filename)\n",
    "\n",
    "    for col in ignore_cols:\n",
    "        data.pop(col)\n",
    "\n",
    "    return np.array(data)\n",
    "\n",
    "def get_in(filename):\n",
    "    inputs = convertToMatrix(read_format_csv(filename), time_steps)\n",
    "    return inputs\n",
    "\n",
    "def get_expect(inputs):\n",
    "    outputs = np.zeros((len(inputs), 2))\n",
    "    for i in range(len(outputs)):\n",
    "        outputs[i] = (i / len(inputs))\n",
    "    return outputs\n",
    "\n",
    "#inputs = get_in(\"./data_simple./imu0_10_27_0.csv\")\n",
    "#outputs = get_expect(inputs)\n",
    "#print(inputs)\n",
    "#print(outputs)\n"
   ]
  },
  {
   "cell_type": "code",
   "execution_count": 74,
   "metadata": {},
   "outputs": [],
   "source": [
    "def training_generator():\n",
    "    for i in range(20):\n",
    "        temp_in = get_in(\"./data/abduction_train/imu0_10_27_\" + str(i) + \".csv\")\n",
    "        temp_out = get_expect(temp_in)\n",
    "        yield (temp_in, temp_out)\n",
    "\n"
   ]
  },
  {
   "cell_type": "code",
   "execution_count": 82,
   "metadata": {},
   "outputs": [
    {
     "name": "stdout",
     "output_type": "stream",
     "text": [
      "Epoch 1/2\n",
      "10/10 [==============================] - 1s 52ms/step - loss: 0.0064\n",
      "Epoch 2/2\n",
      "10/10 [==============================] - 0s 50ms/step - loss: 0.0058\n"
     ]
    }
   ],
   "source": [
    "history = model.fit(x=training_generator(), epochs=2,steps_per_epoch=10)\n",
    "\n",
    "\n",
    "\n"
   ]
  },
  {
   "cell_type": "code",
   "execution_count": 83,
   "metadata": {},
   "outputs": [
    {
     "name": "stderr",
     "output_type": "stream",
     "text": [
      "c:\\Users\\David\\anaconda3\\envs\\ensc413-s2022\\lib\\site-packages\\tensorflow\\python\\data\\ops\\dataset_ops.py:4527: UserWarning: Even though the `tf.config.experimental_run_functions_eagerly` option is set, this option does not apply to tf.data functions. To force eager execution of tf.data functions, please use `tf.data.experimental.enable_debug_mode()`.\n",
      "  \"Even though the `tf.config.experimental_run_functions_eagerly` \"\n"
     ]
    },
    {
     "data": {
      "image/png": "[encoded data removed]",
      "text/plain": [
       "<Figure size 432x288 with 1 Axes>"
      ]
     },
     "metadata": {
      "needs_background": "light"
     },
     "output_type": "display_data"
    }
   ],
   "source": [
    "file_name = \"./original_data/imu0_10_27.csv\"\n",
    "\n",
    "input_data = read_format_csv(file_name)\n",
    "\n",
    "angle0 = input_data.flatten()[::3]\n",
    "angle1 = input_data.flatten()[1::3]\n",
    "angle2 = input_data.flatten()[2::3]\n",
    "\n",
    "data_in = get_in(file_name) \n",
    "prediction = model.predict(data_in)\n",
    "x_points = np.arange(0,len(angle0))\n",
    "\n",
    "prediction_wrong = prediction.flatten()[::2]\n",
    "prediction_comp = prediction.flatten()[1::2]\n",
    "\n",
    "for i in range(time_steps):\n",
    "    prediction_wrong = np.insert(prediction_wrong, 0, 0)\n",
    "    prediction_comp = np.insert(prediction_comp, 0, 0)\n",
    "\n",
    "prediction_wrong *= 100\n",
    "prediction_comp *= 100\n",
    "\n",
    "plt.plot(x_points, angle0, label=\"A0\")\n",
    "plt.plot(x_points, angle1, label=\"A1\")\n",
    "plt.plot(x_points, angle2, label=\"A2\")\n",
    "plt.plot(x_points, prediction_wrong, label=\"Wrong\")\n",
    "plt.plot(x_points, prediction_comp, label=\"Over-C\")\n",
    "plt.legend()\n",
    "plt.show()\n",
    "\n"
   ]
  },
  {
   "cell_type": "code",
   "execution_count": null,
   "metadata": {},
   "outputs": [],
   "source": []
  },
  {
   "cell_type": "code",
   "execution_count": null,
   "metadata": {},
   "outputs": [],
   "source": []
  }
 ],
 "metadata": {
  "kernelspec": {
   "display_name": "base",
   "language": "python",
   "name": "python3"
  },
  "language_info": {
   "codemirror_mode": {
    "name": "ipython",
    "version": 3
   },
   "file_extension": ".py",
   "mimetype": "text/x-python",
   "name": "python",
   "nbconvert_exporter": "python",
   "pygments_lexer": "ipython3",
   "version": "3.7.11"
  },
  "orig_nbformat": 4
 },
 "nbformat": 4,
 "nbformat_minor": 2
}
