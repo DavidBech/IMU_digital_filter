{
 "cells": [
  {
   "cell_type": "code",
   "execution_count": 23,
   "metadata": {},
   "outputs": [],
   "source": [
    "import tensorflow as tf\n",
    "from tensorflow import keras\n",
    "from tensorflow.keras import layers\n",
    "import pandas as pd\n",
    "import numpy as np\n",
    "import matplotlib.pyplot as plt"
   ]
  },
  {
   "cell_type": "code",
   "execution_count": 42,
   "metadata": {},
   "outputs": [],
   "source": [
    "# Angles (3) + Accel (3) + Compass(3)\n",
    "#TODO 2 imus in so double data width?\n",
    "#data_input_width = 3 + 3 + 3\n",
    "data_input_width = 3 #use only angles for now\n",
    "time_steps= 10\n",
    "\n",
    "# Input Format\n",
    "# [angles(t-time_steps+1), accel(t-time_steps+1), compass(t-time_steps+1)]\n",
    "# ...\n",
    "# [angles(t-2), accel(t-2), compass(t-2)]\n",
    "# [angles(t-1), accel(t-1), compass(t-1)]\n",
    "# [angles(t) accel(t), compass(t)]\n",
    "\n",
    "#output Format\n",
    "#\n",
    "# [correct_exercise, overcompensation]\n",
    "#"
   ]
  },
  {
   "cell_type": "code",
   "execution_count": 43,
   "metadata": {},
   "outputs": [
    {
     "name": "stdout",
     "output_type": "stream",
     "text": [
      "Model: \"sequential_22\"\n",
      "_________________________________________________________________\n",
      " Layer (type)                Output Shape              Param #   \n",
      "=================================================================\n",
      " simple_rnn_19 (SimpleRNN)   (None, 10, 32)            1152      \n",
      "                                                                 \n",
      " lstm_6 (LSTM)               (None, 16)                3136      \n",
      "                                                                 \n",
      " dense_34 (Dense)            (None, 10)                170       \n",
      "                                                                 \n",
      " dense_35 (Dense)            (None, 2)                 22        \n",
      "                                                                 \n",
      "=================================================================\n",
      "Total params: 4,480\n",
      "Trainable params: 4,480\n",
      "Non-trainable params: 0\n",
      "_________________________________________________________________\n"
     ]
    }
   ],
   "source": [
    "model = keras.Sequential()\n",
    "#TODO I don't know if simpleRNN should come before or after LSTM\n",
    "#TODO another input second IMU?\n",
    "model.add(layers.SimpleRNN(32, input_shape = (time_steps, data_input_width), return_sequences=True))\n",
    "model.add(layers.LSTM(16))\n",
    "model.add(layers.Dense(10))\n",
    "model.add(layers.Dense(2, activation='sigmoid')) #sigmoid has output between 0 and 1 (confidence)\n",
    "model.compile(loss='mean_squared_error', optimizer='adam')\n",
    "model.summary()"
   ]
  },
  {
   "cell_type": "code",
   "execution_count": null,
   "metadata": {},
   "outputs": [],
   "source": [
    "N = 16    \n",
    "Tp =12 \n",
    "\n",
    "t=np.arange(0,N)\n",
    "x=np.sin(0.02*t) #+2*np.random.rand(N)\n",
    "df = pd.DataFrame(x)\n",
    "df.head()\n",
    "\n",
    "values=df.values\n",
    "train,test = values[0:Tp,:], values[Tp:N,:]\n",
    "step = 4\n",
    "test = np.append(test,np.repeat(test[-1,],step))\n",
    "train = np.append(train,np.repeat(train[-1,],step))\n",
    "\n",
    "def convertToMatrix(data, step):\n",
    "    X, Y =[], []\n",
    "    for i in range(len(data)-step):\n",
    "        d=i+step  \n",
    "        X.append(data[i:d,])\n",
    "    return np.array(X), np.array(Y)\n",
    "\n",
    "trainX,trainY =convertToMatrix(train,step)\n",
    "testX,testY =convertToMatrix(test,step)\n",
    "\n",
    "trainX = np.reshape(trainX, (trainX.shape[0], 1, trainX.shape[1]))\n",
    "testX = np.reshape(testX, (testX.shape[0], 1, testX.shape[1]))\n",
    "\n",
    "print(trainX)\n",
    "print(trainY)\n"
   ]
  },
  {
   "cell_type": "code",
   "execution_count": 73,
   "metadata": {},
   "outputs": [],
   "source": [
    "def convertToMatrix(data, step):\n",
    "    X = []\n",
    "    for i in range(len(data) - step):\n",
    "        d = i+step\n",
    "        X.append(data[i:d,])\n",
    "    return np.array(X)\n",
    "\n",
    "def read_format_csv(filename):\n",
    "    ignore_cols = (\"time\",\"IMU#\",\"accelx\",\"accely\",\"accelz\",\"compassx\",\"compassy\",\"compassz\")\n",
    "    data = pd.read_csv(filename)\n",
    "\n",
    "    for col in ignore_cols:\n",
    "        data.pop(col)\n",
    "\n",
    "    return np.array(data)\n",
    "\n",
    "def get_in(filename):\n",
    "    inputs = convertToMatrix(read_format_csv(filename), time_steps)\n",
    "    return inputs\n",
    "\n",
    "def get_expect(inputs):\n",
    "    outputs = np.zeros((len(inputs), 2))\n",
    "    for i, slice in enumerate(outputs):\n",
    "        outputs[i] = (i / len(inputs))\n",
    "    return outputs\n",
    "\n",
    "inputs = get_in(\"./data_simple/imu1_10_27.csv\")\n",
    "outputs = get_expect(inputs)\n"
   ]
  },
  {
   "cell_type": "code",
   "execution_count": null,
   "metadata": {},
   "outputs": [],
   "source": [
    "#TODO generate data"
   ]
  },
  {
   "cell_type": "code",
   "execution_count": null,
   "metadata": {},
   "outputs": [],
   "source": [
    "history = model.fit(\n",
    "    inputs,\n",
    "    outputs,\n",
    "    epochs = 5,\n",
    "    validation_split = 0.2,\n",
    ")\n",
    "\n",
    "model.save(\"./\")\n"
   ]
  },
  {
   "cell_type": "code",
   "execution_count": 109,
   "metadata": {},
   "outputs": [
    {
     "data": {
      "image/png": "[encoded data removed]",
      "text/plain": [
       "<Figure size 432x288 with 1 Axes>"
      ]
     },
     "metadata": {
      "needs_background": "light"
     },
     "output_type": "display_data"
    }
   ],
   "source": [
    "file_name = \"./data_simple/imu1_10_27.csv\"\n",
    "\n",
    "input_data = read_format_csv(file_name)\n",
    "\n",
    "angle0 = input_data.flatten()[::3]\n",
    "angle1 = input_data.flatten()[1::3]\n",
    "angle2 = input_data.flatten()[2::3]\n",
    "\n",
    "data_in = get_in(file_name) \n",
    "prediction = model.predict(data_in)\n",
    "x_points = np.arange(0,len(angle0))\n",
    "\n",
    "prediction_wrong = prediction.flatten()[::2]\n",
    "prediction_comp = prediction.flatten()[1::2]\n",
    "\n",
    "for i in range(time_steps):\n",
    "    prediction_wrong = np.insert(prediction_wrong, 0, 0)\n",
    "    prediction_comp = np.insert(prediction_comp, 0, 0)\n",
    "\n",
    "prediction_wrong *= 100\n",
    "prediction_comp *= 100\n",
    "\n",
    "plt.plot(x_points, angle0, label=\"A0\")\n",
    "plt.plot(x_points, angle1, label=\"A1\")\n",
    "plt.plot(x_points, angle2, label=\"A2\")\n",
    "plt.plot(x_points, prediction_wrong, label=\"Wrong\")\n",
    "plt.plot(x_points, prediction_comp, label=\"Over-C\")\n",
    "plt.legend()\n",
    "plt.show()\n",
    "\n"
   ]
  },
  {
   "cell_type": "code",
   "execution_count": null,
   "metadata": {},
   "outputs": [],
   "source": []
  },
  {
   "cell_type": "code",
   "execution_count": null,
   "metadata": {},
   "outputs": [],
   "source": []
  }
 ],
 "metadata": {
  "kernelspec": {
   "display_name": "base",
   "language": "python",
   "name": "python3"
  },
  "language_info": {
   "codemirror_mode": {
    "name": "ipython",
    "version": 3
   },
   "file_extension": ".py",
   "mimetype": "text/x-python",
   "name": "python",
   "nbconvert_exporter": "python",
   "pygments_lexer": "ipython3",
   "version": "3.7.11"
  },
  "orig_nbformat": 4
 },
 "nbformat": 4,
 "nbformat_minor": 2
}
